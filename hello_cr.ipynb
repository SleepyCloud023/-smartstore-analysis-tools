{
 "cells": [
  {
   "cell_type": "code",
   "execution_count": 59,
   "metadata": {},
   "outputs": [
    {
     "name": "stdout",
     "output_type": "stream",
     "text": [
      "The autoreload extension is already loaded. To reload it, use:\n",
      "  %reload_ext autoreload\n"
     ]
    }
   ],
   "source": [
    "%load_ext autoreload\n",
    "%autoreload 2\n",
    "import requests\n",
    "from bs4 import BeautifulSoup\n",
    "from naver_smart_store import *\n",
    "import re\n",
    "\n",
    "url_1인야채_추천순 = \"https://search.shopping.naver.com/search/all?catId=50000160&frm=NVSHCAT&origQuery=1%EC%9D%B8%20%EC%95%BC%EC%B1%84&pagingIndex=1&pagingSize=40&productSet=total&query=1%EC%9D%B8%20%EC%95%BC%EC%B1%84&sort=review&timestamp=&viewType=list\""
   ]
  },
  {
   "cell_type": "code",
   "execution_count": null,
   "metadata": {},
   "outputs": [],
   "source": []
  },
  {
   "cell_type": "code",
   "execution_count": 58,
   "metadata": {},
   "outputs": [
    {
     "data": {
      "text/plain": [
       "<div class=\"basicList_img_area__a3NRA\"><div class=\"thumbnail_thumb_wrap__1pEkS _wrapper\"><a class=\"thumbnail_thumb__3Agq6\" data-nclick=\"N=a:lst*N.image,r:1,i:30457806690\" href=\"https://cr.shopping.naver.com/adcr.nhn?x=oh2akF0SMxGgKPKnWOhCzf%2F%2F%2Fw%3D%3Ds8xxWkf5380n%2B2IAeXHKu4JhCJZrxhEkr8oLA7AELEKvdWY9bF9jSy42feIbZcrMu21WfIV50wx5%2B4b%2BeHR07h6M86%2BPjjsmsnHwqHSXoJ5uvmWXo9XJUFLIXcA6%2FBv5KFiUr2BoWaeW6kQoZtBfNr9%2B5CcYT6i7R71k9hGw5oerHaRPVsse2J3%2FKtbqGlV34s4PxzUzI2Oc23YAEU0dtMYs%2F5lPMaHIlXILWsJp%2Bq9e0ZaCvYdcFua14ipvsvdnlTGE8Tr5KwBAuntjxBAptOpUa38COFg%2FPbrwJ%2BmWJYoJWEXeXwSaubPu0qUaxQfPPa%2BpHa6ewb0%2FDpcGez9%2B2Mmaf7oVVn%2BbTDsruUdhAA7ut8%2Fue%2BNZuDOpJEF3O%2F2O2aJzKlJxDwH98Bda84B%2BVjWIa%2BlAE%2BxPdkmv9pv5Njhv2nZihTdY0xMxrHQQakt5uob8GrdWUXvyfllBVQSU5IsbqX323V7jyonGq8Q8t0OQVvbO7Z3B0VdtFvX1pk1N2YJPr1RQU5LG69%2BWO7Gyv%2F0SR4LsJgZe50M4EnsyBlY4TVOF0MT8KUDs%2BXi%2FKtW48feLB%2BmVQvb7yL0qbmdJ4NEV3GQcin3vK7gLUdmLXbidHaPpV5YGet0Pjk3WES7Vg75QshKoJwDgEJJ6ht%2BUkAcSE0hvie2IF38KQb%2FzPgGJGdGb7gROPoS2VpIBO6L%2B8j9uYBtZg5UiYniF9MNUX21rJefoOJbmkO4BD9YMbmM0NUJgJp6CUXauCvW7Y5AjN&amp;nvMid=30457806690&amp;catId=50002207\" rel=\"noopener\" target=\"_blank\"><span class=\"\" style=\"display:inline-block;width:140px;height:140px\"></span></a><div class=\"thumbnail_btn_box__3_V2T\"><div class=\"thumbnail_btn__L5sLn\"><button class=\"thumbnail_save__Xr59e\" data-nclick=\"N=a:lst*N.put\" type=\"button\"><span class=\"thumbnail_layer_info__2Bo5z\">담기</span></button><div class=\"thumbnail_layer_info__2Bo5z\"><div class=\"thumbnail_link_box__z5jwn\"><a class=\"thumbnail_link__3dxO0\" data-nclick=\"N=a:lst*N.putblog\" href=\"#\">내 블로그에 담기</a><a class=\"thumbnail_link__3dxO0\" data-nclick=\"N=a:lst*N.putcafe\" href=\"#\">카페에 담기</a></div></div></div></div></div></div>"
      ]
     },
     "execution_count": 58,
     "metadata": {},
     "output_type": "execute_result"
    }
   ],
   "source": [
    "items = get_items_from_url(url_1인야채_추천순)\n",
    "image_area=items[0]['image']\n",
    "image_area.find()\n",
    "# items[0].find('div', recursive=False).find_all('div', recursive=False)\n",
    "# first_li = items[0]\n",
    "# print(f'items count: {len(items)}', 'first item:', first_li, sep='\\n')\n"
   ]
  },
  {
   "cell_type": "code",
   "execution_count": null,
   "metadata": {},
   "outputs": [],
   "source": []
  }
 ],
 "metadata": {
  "interpreter": {
   "hash": "5e605eba3fedd4ec66f2bdef7cd452f946a53d4c4b4cac0b7e869092419fa2d2"
  },
  "kernelspec": {
   "display_name": "Python 3.8.0 64-bit ('oasys': conda)",
   "language": "python",
   "name": "python3"
  },
  "language_info": {
   "codemirror_mode": {
    "name": "ipython",
    "version": 3
   },
   "file_extension": ".py",
   "mimetype": "text/x-python",
   "name": "python",
   "nbconvert_exporter": "python",
   "pygments_lexer": "ipython3",
   "version": "3.8.0"
  },
  "orig_nbformat": 4
 },
 "nbformat": 4,
 "nbformat_minor": 2
}
